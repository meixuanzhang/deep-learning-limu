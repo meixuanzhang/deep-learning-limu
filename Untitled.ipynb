{
 "cells": [
  {
   "cell_type": "code",
   "execution_count": 5,
   "metadata": {},
   "outputs": [],
   "source": [
    "class Student(object):\n",
    "    def __init__(self,ss=0):\n",
    "        self.ss=ss\n",
    "    def learn(self):\n",
    "        print(\"Student class:learning...\")\n",
    "\n",
    "        \n",
    "class Person(object):\n",
    "    def __init__(self,name,age,sex):\n",
    "        self.name=name\n",
    "        self.age=age\n",
    "        self.sex=sex\n",
    "        self.student=Student()\n",
    "    def prin(self):\n",
    "        l=self.student(2)\n",
    "    def __setattr__(self, name, value):\n",
    "        \n",
    "        print(\"change\")"
   ]
  },
  {
   "cell_type": "code",
   "execution_count": 6,
   "metadata": {},
   "outputs": [
    {
     "name": "stdout",
     "output_type": "stream",
     "text": [
      "change\n",
      "change\n",
      "change\n",
      "change\n"
     ]
    }
   ],
   "source": [
    "k=Person(5,6,7)"
   ]
  },
  {
   "cell_type": "code",
   "execution_count": 7,
   "metadata": {},
   "outputs": [
    {
     "ename": "AttributeError",
     "evalue": "'Person' object has no attribute 'student'",
     "output_type": "error",
     "traceback": [
      "\u001b[0;31m---------------------------------------------------------------------------\u001b[0m",
      "\u001b[0;31mAttributeError\u001b[0m                            Traceback (most recent call last)",
      "\u001b[0;32m<ipython-input-7-3f5b386a0f69>\u001b[0m in \u001b[0;36m<module>\u001b[0;34m()\u001b[0m\n\u001b[0;32m----> 1\u001b[0;31m \u001b[0mk\u001b[0m\u001b[0;34m.\u001b[0m\u001b[0mprin\u001b[0m\u001b[0;34m(\u001b[0m\u001b[0;34m)\u001b[0m\u001b[0;34m\u001b[0m\u001b[0m\n\u001b[0m",
      "\u001b[0;32m<ipython-input-5-213a394f966f>\u001b[0m in \u001b[0;36mprin\u001b[0;34m(self)\u001b[0m\n\u001b[1;32m     13\u001b[0m         \u001b[0mself\u001b[0m\u001b[0;34m.\u001b[0m\u001b[0mstudent\u001b[0m\u001b[0;34m=\u001b[0m\u001b[0mStudent\u001b[0m\u001b[0;34m(\u001b[0m\u001b[0;34m)\u001b[0m\u001b[0;34m\u001b[0m\u001b[0m\n\u001b[1;32m     14\u001b[0m     \u001b[0;32mdef\u001b[0m \u001b[0mprin\u001b[0m\u001b[0;34m(\u001b[0m\u001b[0mself\u001b[0m\u001b[0;34m)\u001b[0m\u001b[0;34m:\u001b[0m\u001b[0;34m\u001b[0m\u001b[0m\n\u001b[0;32m---> 15\u001b[0;31m         \u001b[0ml\u001b[0m\u001b[0;34m=\u001b[0m\u001b[0mself\u001b[0m\u001b[0;34m.\u001b[0m\u001b[0mstudent\u001b[0m\u001b[0;34m(\u001b[0m\u001b[0;36m2\u001b[0m\u001b[0;34m)\u001b[0m\u001b[0;34m\u001b[0m\u001b[0m\n\u001b[0m\u001b[1;32m     16\u001b[0m     \u001b[0;32mdef\u001b[0m \u001b[0m__setattr__\u001b[0m\u001b[0;34m(\u001b[0m\u001b[0mself\u001b[0m\u001b[0;34m,\u001b[0m \u001b[0mname\u001b[0m\u001b[0;34m,\u001b[0m \u001b[0mvalue\u001b[0m\u001b[0;34m)\u001b[0m\u001b[0;34m:\u001b[0m\u001b[0;34m\u001b[0m\u001b[0m\n\u001b[1;32m     17\u001b[0m         \u001b[0mprint\u001b[0m\u001b[0;34m(\u001b[0m\u001b[0;34m\"change\"\u001b[0m\u001b[0;34m)\u001b[0m\u001b[0;34m\u001b[0m\u001b[0m\n",
      "\u001b[0;31mAttributeError\u001b[0m: 'Person' object has no attribute 'student'"
     ]
    }
   ],
   "source": [
    "k.prin()"
   ]
  },
  {
   "cell_type": "code",
   "execution_count": 3,
   "metadata": {},
   "outputs": [],
   "source": [
    "s=Person(1,2,3)"
   ]
  },
  {
   "cell_type": "code",
   "execution_count": 7,
   "metadata": {},
   "outputs": [
    {
     "data": {
      "text/plain": [
       "1"
      ]
     },
     "execution_count": 7,
     "metadata": {},
     "output_type": "execute_result"
    }
   ],
   "source": [
    "s.name"
   ]
  },
  {
   "cell_type": "code",
   "execution_count": 8,
   "metadata": {},
   "outputs": [
    {
     "ename": "TypeError",
     "evalue": "'Person' object is not callable",
     "output_type": "error",
     "traceback": [
      "\u001b[0;31m---------------------------------------------------------------------------\u001b[0m",
      "\u001b[0;31mTypeError\u001b[0m                                 Traceback (most recent call last)",
      "\u001b[0;32m<ipython-input-8-609fe400357b>\u001b[0m in \u001b[0;36m<module>\u001b[0;34m()\u001b[0m\n\u001b[0;32m----> 1\u001b[0;31m \u001b[0ms\u001b[0m\u001b[0;34m(\u001b[0m\u001b[0;36m4\u001b[0m\u001b[0;34m,\u001b[0m\u001b[0;36m5\u001b[0m\u001b[0;34m,\u001b[0m\u001b[0;36m6\u001b[0m\u001b[0;34m)\u001b[0m\u001b[0;34m\u001b[0m\u001b[0m\n\u001b[0m",
      "\u001b[0;31mTypeError\u001b[0m: 'Person' object is not callable"
     ]
    }
   ],
   "source": [
    "s(4,5,6)"
   ]
  },
  {
   "cell_type": "code",
   "execution_count": 12,
   "metadata": {},
   "outputs": [
    {
     "name": "stdout",
     "output_type": "stream",
     "text": [
      "call func set attr\n",
      "123\n"
     ]
    }
   ],
   "source": [
    "class A(object):\n",
    "    def __setattr__(self, *args, **kwargs):\n",
    "        print('call func set attr')\n",
    "        return object.__setattr__(self, *args, **kwargs)\n",
    "\n",
    "a = A()\n",
    "\n",
    "a.a1 = 123\n",
    "print(a.a1)"
   ]
  },
  {
   "cell_type": "code",
   "execution_count": null,
   "metadata": {},
   "outputs": [],
   "source": [
    "class Dense(HybridBlock):\n",
    "    r\"\"\"Just your regular densely-connected NN layer.\n",
    "\n",
    "    `Dense` implements the operation:\n",
    "    `output = activation(dot(input, weight) + bias)`\n",
    "    where `activation` is the element-wise activation function\n",
    "    passed as the `activation` argument, `weight` is a weights matrix\n",
    "    created by the layer, and `bias` is a bias vector created by the layer\n",
    "    (only applicable if `use_bias` is `True`).\n",
    "\n",
    "    Note: the input must be a tensor with rank 2. Use `flatten` to convert it\n",
    "    to rank 2 manually if necessary.\n",
    "\n",
    "    Parameters\n",
    "    ----------\n",
    "    units : int\n",
    "        Dimensionality of the output space.\n",
    "    activation : str\n",
    "        Activation function to use. See help on `Activation` layer.\n",
    "        If you don't specify anything, no activation is applied\n",
    "        (ie. \"linear\" activation: `a(x) = x`).\n",
    "    use_bias : bool\n",
    "        Whether the layer uses a bias vector.\n",
    "    flatten: bool\n",
    "        Whether the input tensor should be flattened.\n",
    "        If true, all but the first axis of input data are collapsed together.\n",
    "        If false, all but the last axis of input data are kept the same, and the transformation\n",
    "        applies on the last axis.\n",
    "    weight_initializer : str or `Initializer`\n",
    "        Initializer for the `kernel` weights matrix.\n",
    "    bias_initializer: str or `Initializer`\n",
    "        Initializer for the bias vector.\n",
    "    in_units : int, optional\n",
    "        Size of the input data. If not specified, initialization will be\n",
    "        deferred to the first time `forward` is called and `in_units`\n",
    "        will be inferred from the shape of input data.\n",
    "    prefix : str or None\n",
    "        See document of `Block`.\n",
    "    params : ParameterDict or None\n",
    "        See document of `Block`.\n",
    "\n",
    "\n",
    "    Inputs:\n",
    "        - **data**: if `flatten` is True, `data` should be a tensor with shape\n",
    "          `(batch_size, x1, x2, ..., xn)`, where x1 * x2 * ... * xn is equal to\n",
    "          `in_units`. If `flatten` is False, `data` should have shape\n",
    "          `(x1, x2, ..., xn, in_units)`.\n",
    "\n",
    "    Outputs:\n",
    "        - **out**: if `flatten` is True, `out` will be a tensor with shape\n",
    "          `(batch_size, units)`. If `flatten` is False, `out` will have shape\n",
    "          `(x1, x2, ..., xn, units)`.\n",
    "    \"\"\"\n",
    "    def __init__(self, units, activation=None, use_bias=True, flatten=True,\n",
    "                 weight_initializer=None, bias_initializer='zeros',\n",
    "                 in_units=0, **kwargs):\n",
    "        super(Dense, self).__init__(**kwargs)\n",
    "        self._flatten = flatten\n",
    "        with self.name_scope():\n",
    "            self._units = units\n",
    "            self._in_units = in_units\n",
    "            self.weight = self.params.get('weight', shape=(units, in_units),\n",
    "                                          init=weight_initializer,\n",
    "                                          allow_deferred_init=True)\n",
    "            if use_bias:\n",
    "                self.bias = self.params.get('bias', shape=(units,),\n",
    "                                            init=bias_initializer,\n",
    "                                            allow_deferred_init=True)\n",
    "            else:\n",
    "                self.bias = None\n",
    "            if activation is not None:\n",
    "                self.act = Activation(activation, prefix=activation+'_')\n",
    "            else:\n",
    "                self.act = None"
   ]
  }
 ],
 "metadata": {
  "kernelspec": {
   "display_name": "Python 3",
   "language": "python",
   "name": "python3"
  },
  "language_info": {
   "codemirror_mode": {
    "name": "ipython",
    "version": 3
   },
   "file_extension": ".py",
   "mimetype": "text/x-python",
   "name": "python",
   "nbconvert_exporter": "python",
   "pygments_lexer": "ipython3",
   "version": "3.6.4"
  }
 },
 "nbformat": 4,
 "nbformat_minor": 2
}
